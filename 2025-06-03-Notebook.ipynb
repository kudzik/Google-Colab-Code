{
  "cells": [
    {
      "cell_type": "markdown",
      "metadata": {
        "colab_type": "text",
        "id": "view-in-github"
      },
      "source": [
        "<a href=\"https://colab.research.google.com/github/kudzik/Google-Colab-Code/blob/main/2025-06-03-Notebook.ipynb\" target=\"_parent\"><img src=\"https://colab.research.google.com/assets/colab-badge.svg\" alt=\"Open In Colab\"/></a>"
      ]
    },
    {
      "cell_type": "code",
      "execution_count": 16,
      "metadata": {
        "id": "cMuih1UKymK-"
      },
      "outputs": [],
      "source": [
        "import numpy as np\n",
        "\n",
        "# random_numbers = np.random.rand(10)\n",
        "# print(random_numbers)\n",
        "\n",
        "\n"
      ]
    },
    {
      "cell_type": "code",
      "execution_count": 18,
      "metadata": {},
      "outputs": [
        {
          "name": "stdout",
          "output_type": "stream",
          "text": [
            "25°C to 77.0°F\n"
          ]
        }
      ],
      "source": [
        "def celsius_to_fahrenheit(celsius):\n",
        "    return (celsius * 9/5) + 32\n",
        "\n",
        "# Przykład użycia:\n",
        "c = 25\n",
        "f = celsius_to_fahrenheit(c)\n",
        "print(f\"{c}°C to {f}°F\")"
      ]
    },
    {
      "cell_type": "code",
      "execution_count": 20,
      "metadata": {},
      "outputs": [
        {
          "name": "stdout",
          "output_type": "stream",
          "text": [
            "Alice ma 30 lat.\n"
          ]
        }
      ],
      "source": [
        "age, name = 30, \"Alice\"\n",
        "print(f\"{name} ma {age} lat.\")"
      ]
    },
    {
      "cell_type": "code",
      "execution_count": 13,
      "metadata": {},
      "outputs": [
        {
          "name": "stdout",
          "output_type": "stream",
          "text": [
            "30 <class 'int'>\n",
            "36.6 <class 'float'>\n",
            "Anna <class 'str'>\n",
            "True <class 'bool'>\n",
            "['mleko', 'chleb', 'jajka'] <class 'list'>\n",
            "(50.05, 22.0) <class 'tuple'>\n",
            "{'imie': 'Anna', 'wiek': 30} <class 'dict'>\n",
            "{'AI', 'python'} <class 'set'>\n",
            "None <class 'NoneType'>\n",
            "(2+3j) <class 'complex'>\n",
            "frozenset({1, 2, 3})\n"
          ]
        }
      ],
      "source": [
        "# Liczba całkowita (int)\n",
        "wiek = 30\n",
        "print(wiek, type(wiek))  # 30 <class 'int'>\n",
        "\n",
        "# Liczba zmiennoprzecinkowa (float)\n",
        "temperatura = 36.6\n",
        "print(temperatura, type(temperatura))  # 36.6 <class 'float'>\n",
        "\n",
        "# Tekst (str)\n",
        "imie = \"Anna\"\n",
        "print(imie, type(imie))  # Anna <class 'str'>\n",
        "\n",
        "# Wartość logiczna (bool)\n",
        "czy_zalogowany = True\n",
        "print(czy_zalogowany, type(czy_zalogowany))  # True <class 'bool'>\n",
        "\n",
        "# Lista (list) – uporządkowany, zmienny zbiór\n",
        "zakupy = [\"mleko\", \"chleb\", \"jajka\"]\n",
        "print(zakupy, type(zakupy))  # ['mleko', 'chleb', 'jajka'] <class 'list'>\n",
        "\n",
        "# Krotka (tuple) – uporządkowany, ale niemodyfikowalny zbiór\n",
        "koordynaty = (50.05, 22.00)\n",
        "print(koordynaty, type(koordynaty))  # (50.05, 22.0) <class 'tuple'>\n",
        "\n",
        "# Słownik (dict) – zbiór par klucz: wartość\n",
        "uzytkownik = {\"imie\": \"Anna\", \"wiek\": 30}\n",
        "print(uzytkownik, type(uzytkownik))  # {'imie': 'Anna', 'wiek': 30} <class 'dict'>\n",
        "\n",
        "# Zbiór (set) – nieuporządkowany zbiór unikalnych wartości\n",
        "tagi = {\"python\", \"AI\", \"python\"}\n",
        "print(tagi, type(tagi))  # {'AI', 'python'} <class 'set'>\n",
        "\n",
        "# None – brak wartości\n",
        "brak_danych = None\n",
        "print(brak_danych, type(brak_danych))  # None <class 'NoneType'>\n",
        "\n",
        "# Liczba zespolona (complex)\n",
        "liczba_zespolona = 2 + 3j\n",
        "print(liczba_zespolona, type(liczba_zespolona))  # (2+3j) <class 'complex'>\n",
        "\n",
        "# Frozenset (NIE można zmieniać)\n",
        "zamrozony = frozenset([1, 2, 3])\n",
        "print(zamrozony)  # frozenset({1, 2, 3})\n",
        "\n"
      ]
    },
    {
      "cell_type": "code",
      "execution_count": 9,
      "metadata": {},
      "outputs": [
        {
          "name": "stdout",
          "output_type": "stream",
          "text": [
            "Cześć Anna, masz 30 lat.\n"
          ]
        }
      ],
      "source": [
        "\n",
        "def powitaj(imie: str, wiek: int) -> str:\n",
        "    return f\"Cześć {imie}, masz {wiek} lat.\"\n",
        "\n",
        "print(powitaj(\"Anna\", 30))\n"
      ]
    },
    {
      "cell_type": "code",
      "execution_count": 11,
      "metadata": {},
      "outputs": [
        {
          "name": "stdout",
          "output_type": "stream",
          "text": [
            "5 + 3 = 8\n",
            "5 - 3 = 2\n",
            "5 * 3 = 15\n",
            "5 / 2 = 2.5\n",
            "5 // 2 = 2\n",
            "5 % 2 = 1\n",
            "2 ** 3 = 8\n",
            "√16 = 4.0\n",
            "-5 = -5\n",
            "+5 = 5\n"
          ]
        }
      ],
      "source": [
        "# Dodawanie\n",
        "a = 5 + 3\n",
        "print(\"5 + 3 =\", a)  # 8\n",
        "\n",
        "# Odejmowanie\n",
        "b = 5 - 3\n",
        "print(\"5 - 3 =\", b)  # 2\n",
        "\n",
        "# Mnożenie\n",
        "c = 5 * 3\n",
        "print(\"5 * 3 =\", c)  # 15\n",
        "\n",
        "# Dzielenie (zwraca float)\n",
        "d = 5 / 2\n",
        "print(\"5 / 2 =\", d)  # 2.5\n",
        "\n",
        "# Dzielenie całkowite\n",
        "e = 5 // 2\n",
        "print(\"5 // 2 =\", e)  # 2\n",
        "\n",
        "# Reszta z dzielenia (modulo)\n",
        "f = 5 % 2\n",
        "print(\"5 % 2 =\", f)  # 1\n",
        "\n",
        "# Potęgowanie\n",
        "g = 2 ** 3\n",
        "print(\"2 ** 3 =\", g)  # 8\n",
        "\n",
        "# Potęgowanie z pierwiastkiem (np. pierwiastek kwadratowy z 16)\n",
        "h = 16 ** 0.5\n",
        "print(\"√16 =\", h)  # 4.0\n",
        "\n",
        "# Negacja\n",
        "i = -5\n",
        "print(\"-5 =\", i)  # -5\n",
        "\n",
        "# Plus jednoznaczny (nie zmienia wartości)\n",
        "j = +5\n",
        "print(\"+5 =\", j)  # 5\n"
      ]
    },
    {
      "cell_type": "code",
      "execution_count": 14,
      "metadata": {},
      "outputs": [
        {
          "name": "stdout",
          "output_type": "stream",
          "text": [
            "x po operacjach: 128.0\n",
            "Wynik jest typu: <class 'float'>\n",
            "128.0 to liczba zmiennoprzecinkowa (float), ponieważ użyto operatora '/=' (dzielenie), który zawsze zwraca float, nawet jeśli wynik jest całkowity.\n"
          ]
        }
      ],
      "source": [
        "x = 8\n",
        "x **= 3\n",
        "x /= 4\n",
        "print(\"x po operacjach:\", x)  # 128.0\n",
        "print(\"Wynik jest typu:\", type(x))\n",
        "print(\"128.0 to liczba zmiennoprzecinkowa (float), ponieważ użyto operatora '/=' (dzielenie), który zawsze zwraca float, nawet jeśli wynik jest całkowity.\")"
      ]
    },
    {
      "cell_type": "code",
      "execution_count": 22,
      "metadata": {},
      "outputs": [
        {
          "name": "stdout",
          "output_type": "stream",
          "text": [
            "Witaj, 23!\n",
            "Liczba minut w 23 godzinach to 1380 minut.\n"
          ]
        }
      ],
      "source": [
        "user_input = input(\"Podaj swoje imię: \")\n",
        "print(f\"Witaj, {user_input}!\")\n",
        "\n",
        "total_hours = int(input(\"Podaj liczbę godzin: \"))\n",
        "total_minutes = total_hours * 60\n",
        "print(f\"Liczba minut w {total_hours} godzinach to {total_minutes} minut.\")"
      ]
    },
    {
      "cell_type": "code",
      "execution_count": null,
      "metadata": {},
      "outputs": [],
      "source": [
        "# Indeksowanie stringów w Pythonie\n",
        "\n",
        "tekst = \"Python\"\n",
        "# Indeksy zaczynają się od 0\n",
        "print(tekst[0])   # 'P' - pierwszy znak\n",
        "print(tekst[2])   # 't' - trzeci znak\n",
        "\n",
        "\n",
        "# Indeksy ujemne liczą od końca\n",
        "print(tekst[-1])  # 'n' - ostatni znak\n",
        "print(tekst[-3])  # 'h' - trzeci od końca\n",
        "\n",
        "# Przykład wycinka (slicing)\n",
        "print(tekst[1:4]) # 'yth' - znaki od indeksu 1 do 3\n",
        "\n",
        "# Konkatenacja stringów w Pythonie\n",
        "napis1 = \"Hello\"\n",
        "napis2 = \"World\"\n",
        "polaczony = napis1 + \" \" + napis2\n",
        "print(polaczony)  # 'Hello World'\n",
        "\n",
        "# Konkatenacja z funkcją str (konwersja liczby na string)\n",
        "liczba = 42\n",
        "tekst_koncowy = \"Wynik to: \" + str(liczba)\n",
        "print(tekst_koncowy)  # 'Wynik to: 42'\n"
      ]
    },
    {
      "cell_type": "code",
      "execution_count": 2,
      "metadata": {},
      "outputs": [
        {
          "name": "stdout",
          "output_type": "stream",
          "text": [
            "Pto\n",
            "yh\n",
            "nohtyP\n",
            "Ph\n",
            "yo\n"
          ]
        }
      ],
      "source": [
        "# Przykłady wycinków (slicing) z trzema argumentami: [start:stop:step]\n",
        "napis3 = 'Python'\n",
        "# Załóżmy, że mamy napis3 = 'Python'\n",
        "print(napis3[::2])    # co drugi znak od początku: 'Pto'\n",
        "print(napis3[1:5:2])  # od indeksu 1 do 4, co 2: 'yh'\n",
        "print(napis3[::-1])   # odwrócony string: 'nohtyP'\n",
        "print(napis3[0:6:3])  # od początku do końca, co 3: 'Ph'\n",
        "print(napis3[1::3])   # od indeksu 1 do końca, co 3: 'yh'"
      ]
    },
    {
      "cell_type": "code",
      "execution_count": 6,
      "metadata": {},
      "outputs": [
        {
          "name": "stdout",
          "output_type": "stream",
          "text": [
            "text='Python is awesome'\n"
          ]
        }
      ],
      "source": [
        "text = 'Python is awesome'\n",
        "print(f\"{text=}\")"
      ]
    },
    {
      "cell_type": "code",
      "execution_count": 8,
      "metadata": {},
      "outputs": [
        {
          "name": "stdout",
          "output_type": "stream",
          "text": [
            "Zysk firmy wynosi: 5828984.15\n"
          ]
        }
      ],
      "source": [
        "# Firma osiąga przychód w wysokości 45 897 513.\n",
        "# Oblicz jego zysk, zakładając, że zysk wynosi 12,7% przychodów.\n",
        "# Wyświetl wynik zaokrąglony do dwóch miejsc po przecinku.\n",
        "\n",
        "przychod = 45897513\n",
        "zysk = przychod * (12.7 / 100)\n",
        "print(f\"Zysk firmy wynosi: {zysk:.2f}\")"
      ]
    },
    {
      "cell_type": "code",
      "execution_count": null,
      "metadata": {},
      "outputs": [
        {
          "name": "stdout",
          "output_type": "stream",
          "text": [
            "Adres MAC: b4:6d:83:77:85:f3\n"
          ]
        }
      ],
      "source": [
        "import re\n",
        "\n",
        "my_str = 'wlo1 Link encap:Ethernet HWaddr b4:6d:83:77:85:f3'\n",
        "mac = re.search(r'([0-9a-f]{2}(:[0-9a-f]{2}){5})', my_str, re.I)\n",
        "if mac:\n",
        "    print(\"Adres MAC:\", mac.group(1))\n",
        "else:\n",
        "    print(\"Nie znaleziono adresu MAC.\")"
      ]
    },
    {
      "cell_type": "code",
      "execution_count": 12,
      "metadata": {},
      "outputs": [
        {
          "name": "stdout",
          "output_type": "stream",
          "text": [
            "b4:6d:83:77:85:f3\n"
          ]
        }
      ],
      "source": [
        "my_str = 'wlo1 Link encap:Ethernet HWaddr b4:6d:83:77:85:f3'\n",
        "\n",
        "my_str =  my_str.split(' ')\n",
        "print(my_str[-1])"
      ]
    },
    {
      "cell_type": "code",
      "execution_count": 13,
      "metadata": {},
      "outputs": [
        {
          "name": "stdout",
          "output_type": "stream",
          "text": [
            "10.0 stóp to 304.80 cm\n"
          ]
        }
      ],
      "source": [
        "feet = float(input(\"Podaj wartość w stopach: \"))\n",
        "centimeters = feet * 30.48\n",
        "print(f\"{feet} stóp to {centimeters:.2f} cm\")"
      ]
    },
    {
      "cell_type": "code",
      "execution_count": 19,
      "metadata": {},
      "outputs": [
        {
          "name": "stdout",
          "output_type": "stream",
          "text": [
            "\"Kaja k\" jest palindromem (ignorując spacje i wielkość liter).\n"
          ]
        }
      ],
      "source": [
        "\n",
        "# Przykład użycia:\n",
        "test = \"Kajak\"\n",
        "    \n",
        "# Nowa wersja funkcji ignorująca białe znaki i wielkość liter\n",
        "def czy_palindrom(ciag):\n",
        "    ciag_czysty = ''.join(ciag.split()).lower()\n",
        "    return ciag_czysty == ciag_czysty[::-1]\n",
        "\n",
        "# Przykład użycia:\n",
        "test = \"Kaja k\"\n",
        "if czy_palindrom(test):\n",
        "    print(f'\"{test}\" jest palindromem (ignorując spacje i wielkość liter).')\n",
        "else:\n",
        "    print(f'\"{test}\" nie jest palindromem (ignorując spacje i wielkość liter).')"
      ]
    },
    {
      "cell_type": "code",
      "execution_count": 23,
      "metadata": {},
      "outputs": [
        {
          "name": "stdout",
          "output_type": "stream",
          "text": [
            "Po dodaniu 6: [1, 2, 3, 4, 5, 6]\n",
            "Po dodaniu 0 na początku: [0, 1, 2, 3, 4, 5, 6]\n",
            "Po usunięciu 3: [0, 1, 2, 4, 5, 6]\n",
            "Po usunięciu ostatniego elementu: [0, 1, 2, 4, 5]\n",
            "Po sortowaniu: [0, 1, 2, 4, 5]\n",
            "Kwadraty liczb: [1, 4, 9, 16, 25]\n",
            "5\n"
          ]
        }
      ],
      "source": [
        "# example list\n",
        "example_list = [1, 2, 3, 4, 5]\n",
        "\n",
        "example_list.append(6)  # dodaje element na końcu listy\n",
        "print(\"Po dodaniu 6:\", example_list)\n",
        "\n",
        "example_list.insert(0, 0)  # dodaje element na początku listy\n",
        "print(\"Po dodaniu 0 na początku:\", example_list)\n",
        "example_list.remove(3)  # usuwa pierwszy wystąpienie elementu 3\n",
        "print(\"Po usunięciu 3:\", example_list)  \n",
        "example_list.pop()  # usuwa ostatni element listy\n",
        "print(\"Po usunięciu ostatniego elementu:\", example_list)    \n",
        "example_list.sort()  # sortuje listę\n",
        "print(\"Po sortowaniu:\", example_list)\n",
        "\n",
        "example_list[-1] # dostęp do ostatniego elementu\n",
        "example_list[0]  # dostęp do pierwszego elementu\n",
        "example_list[1:4]  # dostęp do elementów od indeksu 1 do 3 (nie włącznie z 4)\n",
        "# Przykład użycia funkcji map\n",
        "numbers = [1, 2, 3, 4, 5]   \n",
        "squared_numbers = list(map(lambda x: x ** 2, numbers))\n",
        "print(\"Kwadraty liczb:\", squared_numbers)  # [1, 4, 9, 16, 25]\n",
        "\n",
        "print(len(example_list))"
      ]
    },
    {
      "cell_type": "code",
      "execution_count": 25,
      "metadata": {},
      "outputs": [
        {
          "name": "stdout",
          "output_type": "stream",
          "text": [
            "Liczby sześcienne: [0, 1, 8, 27, 64]\n",
            "0 jest w liście list_of_3\n",
            "1 jest w liście list_of_3\n",
            "8 jest w liście list_of_3\n",
            "27 jest w liście list_of_3\n",
            "64 jest w liście list_of_3\n"
          ]
        }
      ],
      "source": [
        "list_of_3 = [x**3 for x in range(5)]\n",
        "print(\"Liczby sześcienne:\", list_of_3)  # [0, 1, 8, 27, 64]\n",
        "\n",
        "for x in list_of_3:\n",
        "    print(f\"{x} jest w liście list_of_3\")"
      ]
    },
    {
      "cell_type": "markdown",
      "metadata": {},
      "source": [
        "### Konkatenacja, slicing i iteracja na listach w Pythonie\n",
        "\n",
        "#### 1. Konkatenacja list\n",
        "\n",
        "Konkatenacja polega na łączeniu dwóch lub więcej list w jedną. W Pythonie można to zrobić za pomocą operatora `+`.\n",
        "\n",
        "```python\n",
        "lista1 = [1, 2, 3]\n",
        "lista2 = [4, 5]\n",
        "polaczona = lista1 + lista2\n",
        "print(polaczona)  # [1, 2, 3, 4, 5]\n",
        "```\n",
        "\n",
        "Możesz też użyć metody `.extend()`:\n",
        "\n",
        "```python\n",
        "example_list = [0, 1, 2, 4, 5]\n",
        "example_list.extend([6, 7])\n",
        "print(example_list)  # [0, 1, 2, 4, 5, 6, 7]\n",
        "```\n",
        "\n",
        "#### 2. Slicing (wycinanie fragmentów listy)\n",
        "\n",
        "Slicing pozwala pobrać fragment listy, podając zakres indeksów `[start:stop:step]`.\n",
        "\n",
        "```python\n",
        "example_list = [0, 1, 2, 4, 5]\n",
        "print(example_list[1:4])   # [1, 2, 4] – elementy od indeksu 1 do 3\n",
        "print(example_list[::-1])  # [5, 4, 2, 1, 0] – odwrócona lista\n",
        "print(example_list[::2])   # [0, 2, 5] – co drugi element\n",
        "```\n",
        "\n",
        "#### 3. Iteracja po liście\n",
        "\n",
        "Iteracja pozwala przechodzić po wszystkich elementach listy, np. za pomocą pętli `for`.\n",
        "\n",
        "```python\n",
        "list_of_3 = [0, 1, 8, 27, 64]\n",
        "for x in list_of_3:\n",
        "    print(x)\n",
        "```\n",
        "\n",
        "Możesz też użyć `enumerate`, aby uzyskać indeks i wartość:\n",
        "\n",
        "```python\n",
        "for idx, val in enumerate(example_list):\n",
        "    print(f\"Indeks {idx}: wartość {val}\")\n",
        "```\n",
        "\n",
        "#### Podsumowanie\n",
        "\n",
        "- **Konkatenacja**: łączenie list (`+`, `.extend()`)\n",
        "- **Slicing**: wycinanie fragmentów listy (`[start:stop:step]`)\n",
        "- **Iteracja**: przechodzenie po elementach listy (`for element in lista`)"
      ]
    },
    {
      "cell_type": "code",
      "execution_count": 29,
      "metadata": {},
      "outputs": [
        {
          "name": "stdout",
          "output_type": "stream",
          "text": [
            "[1, 2, 3, 4, 5]\n"
          ]
        }
      ],
      "source": [
        "lista = list(range(1, 11))\n",
        "nowa_lista = []\n",
        "for liczba in lista:\n",
        "    if liczba <= 5:\n",
        "        nowa_lista.append(liczba)\n",
        "print(nowa_lista)"
      ]
    }
  ],
  "metadata": {
    "colab": {
      "authorship_tag": "ABX9TyOT6bYERFbDP32hMsN6W53f",
      "include_colab_link": true,
      "provenance": []
    },
    "kernelspec": {
      "display_name": ".venv",
      "language": "python",
      "name": "python3"
    },
    "language_info": {
      "codemirror_mode": {
        "name": "ipython",
        "version": 3
      },
      "file_extension": ".py",
      "mimetype": "text/x-python",
      "name": "python",
      "nbconvert_exporter": "python",
      "pygments_lexer": "ipython3",
      "version": "3.13.3"
    }
  },
  "nbformat": 4,
  "nbformat_minor": 0
}
