{
  "cells": [
    {
      "cell_type": "markdown",
      "metadata": {
        "colab_type": "text",
        "id": "view-in-github"
      },
      "source": [
        "<a href=\"https://colab.research.google.com/github/kudzik/Google-Colab-Code/blob/main/2025-06-03-Notebook.ipynb\" target=\"_parent\"><img src=\"https://colab.research.google.com/assets/colab-badge.svg\" alt=\"Open In Colab\"/></a>"
      ]
    },
    {
      "cell_type": "code",
      "execution_count": 16,
      "metadata": {
        "id": "cMuih1UKymK-"
      },
      "outputs": [],
      "source": [
        "import numpy as np\n",
        "\n",
        "# random_numbers = np.random.rand(10)\n",
        "# print(random_numbers)\n",
        "\n",
        "\n"
      ]
    },
    {
      "cell_type": "code",
      "execution_count": 18,
      "metadata": {},
      "outputs": [
        {
          "name": "stdout",
          "output_type": "stream",
          "text": [
            "25°C to 77.0°F\n"
          ]
        }
      ],
      "source": [
        "def celsius_to_fahrenheit(celsius):\n",
        "    return (celsius * 9/5) + 32\n",
        "\n",
        "# Przykład użycia:\n",
        "c = 25\n",
        "f = celsius_to_fahrenheit(c)\n",
        "print(f\"{c}°C to {f}°F\")"
      ]
    },
    {
      "cell_type": "code",
      "execution_count": 20,
      "metadata": {},
      "outputs": [
        {
          "name": "stdout",
          "output_type": "stream",
          "text": [
            "Alice ma 30 lat.\n"
          ]
        }
      ],
      "source": [
        "age, name = 30, \"Alice\"\n",
        "print(f\"{name} ma {age} lat.\")"
      ]
    },
    {
      "cell_type": "code",
      "execution_count": 13,
      "metadata": {},
      "outputs": [
        {
          "name": "stdout",
          "output_type": "stream",
          "text": [
            "30 <class 'int'>\n",
            "36.6 <class 'float'>\n",
            "Anna <class 'str'>\n",
            "True <class 'bool'>\n",
            "['mleko', 'chleb', 'jajka'] <class 'list'>\n",
            "(50.05, 22.0) <class 'tuple'>\n",
            "{'imie': 'Anna', 'wiek': 30} <class 'dict'>\n",
            "{'AI', 'python'} <class 'set'>\n",
            "None <class 'NoneType'>\n",
            "(2+3j) <class 'complex'>\n",
            "frozenset({1, 2, 3})\n"
          ]
        }
      ],
      "source": [
        "# Liczba całkowita (int)\n",
        "wiek = 30\n",
        "print(wiek, type(wiek))  # 30 <class 'int'>\n",
        "\n",
        "# Liczba zmiennoprzecinkowa (float)\n",
        "temperatura = 36.6\n",
        "print(temperatura, type(temperatura))  # 36.6 <class 'float'>\n",
        "\n",
        "# Tekst (str)\n",
        "imie = \"Anna\"\n",
        "print(imie, type(imie))  # Anna <class 'str'>\n",
        "\n",
        "# Wartość logiczna (bool)\n",
        "czy_zalogowany = True\n",
        "print(czy_zalogowany, type(czy_zalogowany))  # True <class 'bool'>\n",
        "\n",
        "# Lista (list) – uporządkowany, zmienny zbiór\n",
        "zakupy = [\"mleko\", \"chleb\", \"jajka\"]\n",
        "print(zakupy, type(zakupy))  # ['mleko', 'chleb', 'jajka'] <class 'list'>\n",
        "\n",
        "# Krotka (tuple) – uporządkowany, ale niemodyfikowalny zbiór\n",
        "koordynaty = (50.05, 22.00)\n",
        "print(koordynaty, type(koordynaty))  # (50.05, 22.0) <class 'tuple'>\n",
        "\n",
        "# Słownik (dict) – zbiór par klucz: wartość\n",
        "uzytkownik = {\"imie\": \"Anna\", \"wiek\": 30}\n",
        "print(uzytkownik, type(uzytkownik))  # {'imie': 'Anna', 'wiek': 30} <class 'dict'>\n",
        "\n",
        "# Zbiór (set) – nieuporządkowany zbiór unikalnych wartości\n",
        "tagi = {\"python\", \"AI\", \"python\"}\n",
        "print(tagi, type(tagi))  # {'AI', 'python'} <class 'set'>\n",
        "\n",
        "# None – brak wartości\n",
        "brak_danych = None\n",
        "print(brak_danych, type(brak_danych))  # None <class 'NoneType'>\n",
        "\n",
        "# Liczba zespolona (complex)\n",
        "liczba_zespolona = 2 + 3j\n",
        "print(liczba_zespolona, type(liczba_zespolona))  # (2+3j) <class 'complex'>\n",
        "\n",
        "# Frozenset (NIE można zmieniać)\n",
        "zamrozony = frozenset([1, 2, 3])\n",
        "print(zamrozony)  # frozenset({1, 2, 3})\n",
        "\n"
      ]
    },
    {
      "cell_type": "code",
      "execution_count": 9,
      "metadata": {},
      "outputs": [
        {
          "name": "stdout",
          "output_type": "stream",
          "text": [
            "Cześć Anna, masz 30 lat.\n"
          ]
        }
      ],
      "source": [
        "\n",
        "def powitaj(imie: str, wiek: int) -> str:\n",
        "    return f\"Cześć {imie}, masz {wiek} lat.\"\n",
        "\n",
        "print(powitaj(\"Anna\", 30))\n"
      ]
    },
    {
      "cell_type": "code",
      "execution_count": 11,
      "metadata": {},
      "outputs": [
        {
          "name": "stdout",
          "output_type": "stream",
          "text": [
            "5 + 3 = 8\n",
            "5 - 3 = 2\n",
            "5 * 3 = 15\n",
            "5 / 2 = 2.5\n",
            "5 // 2 = 2\n",
            "5 % 2 = 1\n",
            "2 ** 3 = 8\n",
            "√16 = 4.0\n",
            "-5 = -5\n",
            "+5 = 5\n"
          ]
        }
      ],
      "source": [
        "# Dodawanie\n",
        "a = 5 + 3\n",
        "print(\"5 + 3 =\", a)  # 8\n",
        "\n",
        "# Odejmowanie\n",
        "b = 5 - 3\n",
        "print(\"5 - 3 =\", b)  # 2\n",
        "\n",
        "# Mnożenie\n",
        "c = 5 * 3\n",
        "print(\"5 * 3 =\", c)  # 15\n",
        "\n",
        "# Dzielenie (zwraca float)\n",
        "d = 5 / 2\n",
        "print(\"5 / 2 =\", d)  # 2.5\n",
        "\n",
        "# Dzielenie całkowite\n",
        "e = 5 // 2\n",
        "print(\"5 // 2 =\", e)  # 2\n",
        "\n",
        "# Reszta z dzielenia (modulo)\n",
        "f = 5 % 2\n",
        "print(\"5 % 2 =\", f)  # 1\n",
        "\n",
        "# Potęgowanie\n",
        "g = 2 ** 3\n",
        "print(\"2 ** 3 =\", g)  # 8\n",
        "\n",
        "# Potęgowanie z pierwiastkiem (np. pierwiastek kwadratowy z 16)\n",
        "h = 16 ** 0.5\n",
        "print(\"√16 =\", h)  # 4.0\n",
        "\n",
        "# Negacja\n",
        "i = -5\n",
        "print(\"-5 =\", i)  # -5\n",
        "\n",
        "# Plus jednoznaczny (nie zmienia wartości)\n",
        "j = +5\n",
        "print(\"+5 =\", j)  # 5\n"
      ]
    }
  ],
  "metadata": {
    "colab": {
      "authorship_tag": "ABX9TyOT6bYERFbDP32hMsN6W53f",
      "include_colab_link": true,
      "provenance": []
    },
    "kernelspec": {
      "display_name": ".venv",
      "language": "python",
      "name": "python3"
    },
    "language_info": {
      "codemirror_mode": {
        "name": "ipython",
        "version": 3
      },
      "file_extension": ".py",
      "mimetype": "text/x-python",
      "name": "python",
      "nbconvert_exporter": "python",
      "pygments_lexer": "ipython3",
      "version": "3.13.3"
    }
  },
  "nbformat": 4,
  "nbformat_minor": 0
}
